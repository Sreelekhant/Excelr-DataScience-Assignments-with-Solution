{
  "nbformat": 4,
  "nbformat_minor": 0,
  "metadata": {
    "colab": {
      "provenance": []
    },
    "kernelspec": {
      "name": "python3",
      "display_name": "Python 3"
    },
    "language_info": {
      "name": "python"
    }
  },
  "cells": [
    {
      "cell_type": "code",
      "execution_count": 3,
      "metadata": {
        "id": "M-d7P2U0y-jc"
      },
      "outputs": [],
      "source": [
        "import warnings\n",
        "warnings.filterwarnings(\"ignore\")\n",
        "\n",
        "import numpy as np\n",
        "import pandas as pd\n",
        "from collections import Counter\n",
        "from sklearn.preprocessing import MultiLabelBinarizer, StandardScaler\n",
        "from sklearn.model_selection import train_test_split\n",
        "from sklearn.metrics.pairwise import cosine_similarity"
      ]
    },
    {
      "cell_type": "code",
      "source": [
        "# load dataset\n",
        "df= pd.read_csv(\"/content/anime.csv\")\n",
        "df\n",
        "\n",
        "# Inspect\n",
        "\n",
        "print(\"Rows, Cloumns:\", df.shape)\n",
        "print(\"\\nColumns and types:\")\n",
        "print(df.dtypes)\n",
        "print(\"\\n Missing value counts:\",df.isnull().sum())\n",
        "print(\"\\n Sample Rows:\",df.head(5).T)"
      ],
      "metadata": {
        "id": "aDkMY2Q82yju",
        "colab": {
          "base_uri": "https://localhost:8080/"
        },
        "outputId": "22e39e9c-f452-4317-f9f5-95b8f67ffa18"
      },
      "execution_count": 5,
      "outputs": [
        {
          "output_type": "stream",
          "name": "stdout",
          "text": [
            "Rows, Cloumns: (12294, 7)\n",
            "\n",
            "Columns and types:\n",
            "anime_id      int64\n",
            "name         object\n",
            "genre        object\n",
            "type         object\n",
            "episodes     object\n",
            "rating      float64\n",
            "members       int64\n",
            "dtype: object\n",
            "\n",
            " Missing value counts: anime_id      0\n",
            "name          0\n",
            "genre        62\n",
            "type         25\n",
            "episodes      0\n",
            "rating      230\n",
            "members       0\n",
            "dtype: int64\n",
            "\n",
            " Sample Rows:                                              0  \\\n",
            "anime_id                                 32281   \n",
            "name                            Kimi no Na wa.   \n",
            "genre     Drama, Romance, School, Supernatural   \n",
            "type                                     Movie   \n",
            "episodes                                     1   \n",
            "rating                                    9.37   \n",
            "members                                 200630   \n",
            "\n",
            "                                                          1  \\\n",
            "anime_id                                               5114   \n",
            "name                       Fullmetal Alchemist: Brotherhood   \n",
            "genre     Action, Adventure, Drama, Fantasy, Magic, Mili...   \n",
            "type                                                     TV   \n",
            "episodes                                                 64   \n",
            "rating                                                 9.26   \n",
            "members                                              793665   \n",
            "\n",
            "                                                          2                 3  \\\n",
            "anime_id                                              28977              9253   \n",
            "name                                               Gintama°       Steins;Gate   \n",
            "genre     Action, Comedy, Historical, Parody, Samurai, S...  Sci-Fi, Thriller   \n",
            "type                                                     TV                TV   \n",
            "episodes                                                 51                24   \n",
            "rating                                                 9.25              9.17   \n",
            "members                                              114262            673572   \n",
            "\n",
            "                                                          4  \n",
            "anime_id                                               9969  \n",
            "name                                          Gintama&#039;  \n",
            "genre     Action, Comedy, Historical, Parody, Samurai, S...  \n",
            "type                                                     TV  \n",
            "episodes                                                 51  \n",
            "rating                                                 9.16  \n",
            "members                                              151266  \n"
          ]
        }
      ]
    },
    {
      "cell_type": "code",
      "source": [
        "# Data cleaning\n",
        "df=df.copy()\n",
        "\n",
        "# Genre(list of strings)\n",
        "df['genre']=df['genre'].fillna('')\n",
        "df['genre_list'] = df['genre'].apply(lambda x: [g.strip() for g in x.split(',')])\n",
        "\n",
        "# Fill missing with 'unknown'\n",
        "df['type'] = df['type'].fillna('Unknown')\n",
        "\n",
        "# Convert 'unknown' to NaN and numeric strings to numbers\n",
        "df['episodes'] = df['episodes'].replace('Unknown', np.nan)\n",
        "df['episodes'] = pd.to_numeric(df['episodes'], errors='coerce')\n",
        "\n",
        "# rating fill missing with median\n",
        "df['rating'] = df['rating'].fillna(df['rating'].median())\n",
        "\n",
        "print(\"After cleaning-missing counts:\")\n",
        "print(df[['genre', 'type', 'episodes','rating']].isnull().sum())"
      ],
      "metadata": {
        "id": "xyjtVp2m3-Vv",
        "colab": {
          "base_uri": "https://localhost:8080/"
        },
        "outputId": "78aed54e-f170-4a23-fb7c-52234324cfff"
      },
      "execution_count": 7,
      "outputs": [
        {
          "output_type": "stream",
          "name": "stdout",
          "text": [
            "After cleaning-missing counts:\n",
            "genre         0\n",
            "type          0\n",
            "episodes    340\n",
            "rating        0\n",
            "dtype: int64\n"
          ]
        }
      ]
    },
    {
      "cell_type": "code",
      "source": [
        "# EDA\n",
        "print(\"Rating: min,max,mean,median:\", df['rating'].min(), df['rating'].max(), df['rating'].mean(), df['rating'].median())\n",
        "print(\"Members: min,max,mean :\", df['members'].min(), df['members'].max(), df['members'].mean())\n",
        "\n",
        "# Top genres\n",
        "genre_list_all = [g for sub in df['genre_list'] for g in sub if g]\n",
        "top_genres = Counter(genre_list_all).most_common(20)\n",
        "print(\"\\nTop genres (by count):\")\n",
        "for g,c in top_genres[:20]:\n",
        "  print(f\"{g}:{c}\")"
      ],
      "metadata": {
        "id": "SKz9xtFo3-Rt",
        "colab": {
          "base_uri": "https://localhost:8080/"
        },
        "outputId": "63e0b9c1-6bb8-4fef-a6f1-7bf3ded919ed"
      },
      "execution_count": 11,
      "outputs": [
        {
          "output_type": "stream",
          "name": "stdout",
          "text": [
            "Rating: min,max,mean,median: 1.67 10.0 6.47569952822515 6.57\n",
            "Members: min,max,mean : 5 1013917 18071.33886448674\n",
            "\n",
            "Top genres (by count):\n",
            "Comedy:4645\n",
            "Action:2845\n",
            "Adventure:2348\n",
            "Fantasy:2309\n",
            "Sci-Fi:2070\n",
            "Drama:2016\n",
            "Shounen:1712\n",
            "Kids:1609\n",
            "Romance:1464\n",
            "School:1220\n",
            "Slice of Life:1220\n",
            "Hentai:1141\n",
            "Supernatural:1037\n",
            "Mecha:944\n",
            "Music:860\n",
            "Historical:806\n",
            "Magic:778\n",
            "Ecchi:637\n",
            "Shoujo:603\n",
            "Seinen:547\n"
          ]
        }
      ]
    },
    {
      "cell_type": "code",
      "source": [
        "# Train-test split\n",
        "train_df, test_df = train_test_split(df, test_size=0.20, random_state=42,shuffle=True)\n",
        "\n",
        "# For imputation of numeric episodes we compute median on train only\n",
        "episodes_median = train_df['episodes'].median()\n",
        "train_df['episodes'] = train_df['episodes'].fillna(episodes_median)\n",
        "test_df['episodes'] = test_df['episodes'].fillna(episodes_median)\n",
        "\n",
        "# Fill any rating nans in test with train median\n",
        "rating_median = train_df['rating'].median()\n",
        "test_df['rating'] = test_df['rating'].fillna(rating_median)\n",
        "\n",
        "print(\"Train rows:\", len(train_df),\"Test rows:\", len(test_df))"
      ],
      "metadata": {
        "id": "ljaxS_4z3-JR",
        "colab": {
          "base_uri": "https://localhost:8080/"
        },
        "outputId": "a85a7c79-383c-4d0c-e54f-1753a059369f"
      },
      "execution_count": 12,
      "outputs": [
        {
          "output_type": "stream",
          "name": "stdout",
          "text": [
            "Train rows: 9835 Test rows: 2459\n"
          ]
        }
      ]
    },
    {
      "cell_type": "code",
      "source": [
        "# Genres -> MultiLabelBinarizer (fit on train)\n",
        "mlb = MultiLabelBinarizer(sparse_output=False)\n",
        "train_genres = mlb.fit_transform(train_df['genre_list'])\n",
        "test_genres  = mlb.transform(test_df['genre_list'])\n",
        "print(\"Number of unique genres (train):\", len(mlb.classes_))\n",
        "\n",
        "# Type -> one-hot using train categories\n",
        "type_categories = sorted(train_df['type'].unique())\n",
        "train_types = pd.get_dummies(train_df['type']).reindex(columns=type_categories, fill_value=0)\n",
        "test_types  = pd.get_dummies(test_df['type']).reindex(columns=type_categories, fill_value=0)\n",
        "\n",
        "# Numeric features + scaling\n",
        "train_num = pd.DataFrame({\n",
        "    'rating': train_df['rating'],\n",
        "    'members_log1p': np.log1p(train_df['members']),\n",
        "    'episodes': train_df['episodes']\n",
        "}, index=train_df.index)\n",
        "\n",
        "test_num = pd.DataFrame({\n",
        "    'rating': test_df['rating'],\n",
        "    'members_log1p': np.log1p(test_df['members']),\n",
        "    'episodes': test_df['episodes']\n",
        "}, index=test_df.index)\n",
        "\n",
        "scaler = StandardScaler()\n",
        "train_num_scaled = scaler.fit_transform(train_num)   # fit on train\n",
        "test_num_scaled = scaler.transform(test_num)         # transform test\n",
        "\n",
        "# Combine final feature matrices (columns: genres | types | numeric)\n",
        "X_train = np.hstack([train_genres, train_types.values, train_num_scaled])\n",
        "X_test  = np.hstack([test_genres, test_types.values, test_num_scaled])\n",
        "\n",
        "print(\"X_train shape:\", X_train.shape, \"X_test shape:\", X_test.shape)"
      ],
      "metadata": {
        "colab": {
          "base_uri": "https://localhost:8080/"
        },
        "id": "cPhvsPKdEzAv",
        "outputId": "0e1cfd97-e4b8-4584-facf-b413d5fa65e3"
      },
      "execution_count": 13,
      "outputs": [
        {
          "output_type": "stream",
          "name": "stdout",
          "text": [
            "Number of unique genres (train): 44\n",
            "X_train shape: (9835, 54) X_test shape: (2459, 54)\n"
          ]
        }
      ]
    },
    {
      "cell_type": "code",
      "source": [
        "# Recommendation helpers\n",
        "\n",
        "# Keep train rows reset for index -> metadata lookup\n",
        "train_rows = train_df.reset_index(drop=True)\n",
        "test_rows  = test_df.reset_index(drop=True)\n",
        "\n",
        "'''Accepts a pandas Series with fields: ['genre_list', 'type', 'rating', 'members', 'episodes']\n",
        "    Returns a single-row array matching X_train/X_test column order.'''\n",
        "\n",
        "def build_query_vector(row):\n",
        "    # genres\n",
        "    gvec = mlb.transform([row['genre_list']])  # shape (1, n_genres)\n",
        "    # type\n",
        "    tvec = np.zeros((1, len(type_categories)), dtype=int)\n",
        "    if row['type'] in type_categories:\n",
        "        tvec[0, type_categories.index(row['type'])] = 1\n",
        "    # numeric: rating, members_log1p, episodes\n",
        "    members_log = np.log1p(row['members'])\n",
        "    eps = row['episodes'] if not np.isnan(row['episodes']) else episodes_median\n",
        "    num_arr = np.array([[row['rating'], members_log, eps]])\n",
        "    num_scaled = scaler.transform(num_arr)\n",
        "    return np.hstack([gvec, tvec, num_scaled])   # shape (1, total_features)\n",
        "\n",
        "'''Find anime by exact match (case insensitive) or substring, build query vector,\n",
        "    compute cosine similarity vs X_train, and return top_n recommendations (excluding same title).\n",
        "    Returns pandas DataFrame with recommended titles and scores.'''\n",
        "\n",
        "def recommend_by_title(title, top_n=10, allow_substring=True):\n",
        "    t = title.strip().lower()\n",
        "    # try exact match\n",
        "    matches = df[df['name'].str.lower() == t]\n",
        "    if matches.empty and allow_substring:\n",
        "        matches = df[df['name'].str.lower().str.contains(t, na=False)]\n",
        "    if matches.empty:\n",
        "        raise ValueError(f\"No anime found for title: {title}\")\n",
        "    row = matches.iloc[0]\n",
        "    q = build_query_vector(row)                     # feature vector using train encoders\n",
        "    sims = cosine_similarity(q, X_train).flatten()\n",
        "    top_idx = sims.argsort()[::-1]\n",
        "    recs = []\n",
        "    for idx in top_idx:\n",
        "        cand_name = train_rows.loc[idx, 'name']\n",
        "        if cand_name.lower() == row['name'].lower():\n",
        "            continue  # skip same anime\n",
        "        recs.append({\n",
        "            'name': cand_name,\n",
        "            'score': float(sims[idx]),\n",
        "            'type': train_rows.loc[idx, 'type'],\n",
        "            'episodes': int(train_rows.loc[idx, 'episodes']),\n",
        "            'rating': float(train_rows.loc[idx, 'rating']),\n",
        "            'members': int(train_rows.loc[idx, 'members'])\n",
        "        })\n",
        "        if len(recs) >= top_n:\n",
        "            break\n",
        "    return pd.DataFrame(recs)\n"
      ],
      "metadata": {
        "id": "2jz8ikNDEy9T"
      },
      "execution_count": 16,
      "outputs": []
    },
    {
      "cell_type": "code",
      "source": [
        "# Example usage:\n",
        "print(\"\\nExample recommendations for 'Fullmetal Alchemist: Brotherhood':\")\n",
        "try:\n",
        "    print(recommend_by_title('Fullmetal Alchemist: Brotherhood', top_n=5).to_string(index=False))\n",
        "except Exception as e:\n",
        "    print(\"Error:\", e)\n"
      ],
      "metadata": {
        "colab": {
          "base_uri": "https://localhost:8080/"
        },
        "id": "QewU28yzKLZV",
        "outputId": "a65ccae4-3adc-4b35-dac4-9ef4186f1463"
      },
      "execution_count": 17,
      "outputs": [
        {
          "output_type": "stream",
          "name": "stdout",
          "text": [
            "\n",
            "Example recommendations for 'Fullmetal Alchemist: Brotherhood':\n",
            "                                                 name    score type  episodes  rating  members\n",
            "                         Magi: The Labyrinth of Magic 0.929606   TV        25    8.24   317513\n",
            "                                          Log Horizon 0.894451   TV        25    8.14   387100\n",
            "                                    Fairy Tail (2014) 0.892723   TV       102    8.25   255076\n",
            "                                   Shingeki no Kyojin 0.885423   TV        25    8.54   896229\n",
            "Gate: Jieitai Kanochi nite, Kaku Tatakaeri 2nd Season 0.882055   TV        12    7.97   153501\n"
          ]
        }
      ]
    },
    {
      "cell_type": "code",
      "source": [
        "# Example: boosting genre weight before similarity\n",
        "'''Multiply the genre columns by genre_weight (temporary) before computing similarity.\n",
        "    min_similarity: if provided, only return recs with score >= min_similarity'''\n",
        "\n",
        "def recommend_with_genre_weight(title, top_n=10, genre_weight=3.0, min_similarity=None):\n",
        "    # build query vector\n",
        "    t = title.strip().lower()\n",
        "    matches = df[df['name'].str.lower() == t]\n",
        "    if matches.empty:\n",
        "        matches = df[df['name'].str.lower().str.contains(t, na=False)]\n",
        "    if matches.empty:\n",
        "        raise ValueError(f\"No anime found for title: {title}\")\n",
        "    row = matches.iloc[0]\n",
        "    q = build_query_vector(row)  # shape (1, total_features)\n",
        "\n",
        "    # genre columns are first len(mlb.classes_) columns\n",
        "    gcount = len(mlb.classes_)\n",
        "    X_train_mod = X_train.copy()\n",
        "    X_train_mod[:, :gcount] *= genre_weight\n",
        "    q_mod = q.copy()\n",
        "    q_mod[:, :gcount] *= genre_weight\n",
        "\n",
        "    sims = cosine_similarity(q_mod, X_train_mod).flatten()\n",
        "    top_idx = sims.argsort()[::-1]\n",
        "    results = []\n",
        "    for idx in top_idx:\n",
        "        if min_similarity is not None and sims[idx] < min_similarity:\n",
        "            continue\n",
        "        cand_name = train_rows.loc[idx, 'name']\n",
        "        if cand_name.lower() == row['name'].lower():\n",
        "            continue\n",
        "        results.append((cand_name, float(sims[idx])))\n",
        "        if len(results) >= top_n:\n",
        "            break\n",
        "    return pd.DataFrame(results, columns=['name','score'])\n"
      ],
      "metadata": {
        "id": "qp3cFnKTKcgd"
      },
      "execution_count": 18,
      "outputs": []
    },
    {
      "cell_type": "code",
      "source": [
        "import time"
      ],
      "metadata": {
        "id": "64_2AFV6OBUU"
      },
      "execution_count": 21,
      "outputs": []
    },
    {
      "cell_type": "code",
      "source": [
        "# Vectorized evaluation using genre-overlap as proxy\n",
        "''' Vectorized evaluation:\n",
        "    - Sample eval_sample_size items from X_test (or use full set if eval_sample_size is None)\n",
        "    - For each sampled test item, compute top-k recommendations and compute precision/recall/F1\n",
        "      against relevant training items defined by genre-overlap (≥1 common genre).\n",
        "    Returns dict with average precision, recall, f1 and evaluated item count.'''\n",
        "\n",
        "def evaluate_vectorized(k=10, eval_sample_size=1000, random_state=42):\n",
        "    n_test = X_test.shape[0]\n",
        "    if eval_sample_size is None or eval_sample_size >= n_test:\n",
        "        idx_sample = np.arange(n_test)\n",
        "    else:\n",
        "        rng = np.random.RandomState(random_state)\n",
        "        idx_sample = rng.choice(n_test, size=eval_sample_size, replace=False)\n",
        "\n",
        "    X_test_sample = X_test[idx_sample]\n",
        "    test_genres_sample = test_genres[idx_sample]  # matrix (n_sample, n_genres)\n",
        "\n",
        "    # Cosine similarity matrix: (n_sample, n_train)\n",
        "    start = time.time()\n",
        "    sims = cosine_similarity(X_test_sample, X_train)  # expensive if sample large\n",
        "    dur = time.time() - start\n",
        "    print(f\"Computed sims matrix for {len(idx_sample)} test items in {dur:.2f}s\")\n",
        "\n",
        "    # Get top-k (unsorted is fine for counts; use argpartition for speed)\n",
        "    k = min(k, X_train.shape[0])\n",
        "    topk_idxs = np.argpartition(-sims, k-1, axis=1)[:, :k]  # shape (n_sample, k)\n",
        "\n",
        "    # Build relevant mask: (n_sample, n_train)\n",
        "    # overlap_counts = test_genres_sample @ train_genres.T\n",
        "    overlap_counts = test_genres_sample.dot(train_genres.T)\n",
        "    relevant_mask = overlap_counts > 0  # True where share >=1 genre\n",
        "\n",
        "    precisions = []\n",
        "    recalls = []\n",
        "    f1s = []\n",
        "    skipped = 0\n",
        "    for i, idxs in enumerate(topk_idxs):\n",
        "        rel_mask_row = relevant_mask[i]\n",
        "        n_rel = rel_mask_row.sum()\n",
        "        if n_rel == 0:\n",
        "            skipped += 1\n",
        "            continue\n",
        "        tp = rel_mask_row[idxs].sum()\n",
        "        prec = tp / k\n",
        "        rec = tp / n_rel\n",
        "        f1 = 2*prec*rec/(prec+rec) if (prec+rec) > 0 else 0.0\n",
        "        precisions.append(prec)\n",
        "        recalls.append(rec)\n",
        "        f1s.append(f1)\n",
        "\n",
        "    results = {\n",
        "        'k': k,\n",
        "        'evaluated_items': len(precisions),\n",
        "        'skipped_items_no_relevance': skipped,\n",
        "        'precision': np.mean(precisions) if precisions else np.nan,\n",
        "        'recall': np.mean(recalls) if recalls else np.nan,\n",
        "        'f1': np.mean(f1s) if f1s else np.nan\n",
        "    }\n",
        "    return results\n",
        "\n",
        "# Run a sampled evaluation (1000 items). Reduce sample size if running locally with limited time.\n",
        "metrics = evaluate_vectorized(k=10, eval_sample_size=1000)\n",
        "print(metrics)\n"
      ],
      "metadata": {
        "colab": {
          "base_uri": "https://localhost:8080/"
        },
        "id": "Yi8f0HoeNPyg",
        "outputId": "57417d6e-a2ed-472f-8058-dcbcc22a04e4"
      },
      "execution_count": 23,
      "outputs": [
        {
          "output_type": "stream",
          "name": "stdout",
          "text": [
            "Computed sims matrix for 1000 test items in 0.07s\n",
            "{'k': 10, 'evaluated_items': 1000, 'skipped_items_no_relevance': 0, 'precision': np.float64(0.992), 'recall': np.float64(0.00543003771313662), 'f1': np.float64(0.010574563741893604)}\n"
          ]
        }
      ]
    },
    {
      "cell_type": "markdown",
      "source": [
        "**1.Can you explain the difference between user-based and item-based collaborative filtering?**\n",
        "- **User-based CF:** It finds users similar to the target user(based on retings/behavior) and recommends items that similar users likes. it's helpful when users have overlapping tastes.\n",
        "suffers when user bases is large or when users have sparse history.\n",
        "\n",
        "- **Item-based CF:** Finds items similar to the items.item-based is often more stable and scales better because the item set is usually smaller and item-to-items similarity can be precomputed."
      ],
      "metadata": {
        "id": "IAU1zOZMPv3U"
      }
    },
    {
      "cell_type": "markdown",
      "source": [
        "**2.What is collaborative filtering, and how does it work?**\n",
        "- **Collaborative filtering(CF):**recommends items by leveraging user-item interactions. it assumes people who agreed in the past will agree in the future.\n",
        "main types are: 1. User-based\n",
        "                2. Item-based\n",
        "                3. Model-based"
      ],
      "metadata": {
        "id": "2WF8osNSRK4-"
      }
    },
    {
      "cell_type": "code",
      "source": [],
      "metadata": {
        "id": "9CUbdGKySOyw"
      },
      "execution_count": null,
      "outputs": []
    }
  ]
}