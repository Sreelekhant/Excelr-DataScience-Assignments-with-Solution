{
  "nbformat": 4,
  "nbformat_minor": 0,
  "metadata": {
    "colab": {
      "provenance": []
    },
    "kernelspec": {
      "name": "python3",
      "display_name": "Python 3"
    },
    "language_info": {
      "name": "python"
    }
  },
  "cells": [
    {
      "cell_type": "markdown",
      "source": [
        "Prime Numbers"
      ],
      "metadata": {
        "id": "Ch8MKjelQOcb"
      }
    },
    {
      "cell_type": "code",
      "execution_count": 6,
      "metadata": {
        "colab": {
          "base_uri": "https://localhost:8080/"
        },
        "id": "qMj6799-KAm1",
        "outputId": "9203f6b4-0917-49f5-c655-6ce40d36b336",
        "collapsed": true
      },
      "outputs": [
        {
          "output_type": "stream",
          "name": "stdout",
          "text": [
            "Enter a number: 2\n",
            "2 is a prime number.\n"
          ]
        }
      ],
      "source": [
        "def is_prime(n):\n",
        "# Check if the number is less than or equal to 1\n",
        "    if n == 1:\n",
        "        return False\n",
        "    elif n == 2:\n",
        "        return True\n",
        "    else:\n",
        "        # Check for divisibility from 2 to the square root of n\n",
        "        for i in range(2, n):\n",
        "            if n % i == 0:\n",
        "                return False\n",
        "        return True\n",
        "# Input from the user\n",
        "n = int(input(\"Enter a number: \"))\n",
        "\n",
        "# Check if the number is prime\n",
        "if is_prime(n):\n",
        "    print(f\"{n} is a prime number.\")\n",
        "else:\n",
        "   print(f\"{n} is not a prime number.\")"
      ]
    },
    {
      "cell_type": "markdown",
      "source": [
        "Product of random numbers"
      ],
      "metadata": {
        "id": "lOKnoa7MQL7W"
      }
    },
    {
      "cell_type": "code",
      "source": [
        "import random\n",
        "\n",
        "# Generate two random numbers\n",
        "num1 = random.randint(1, 15)\n",
        "num2 = random.randint(1, 10)\n",
        "product = num1 * num2\n",
        "\n",
        "# Ask the user for the product\n",
        "user = int(input(f\"What is the product of {num1} and {num2}? \"))\n",
        "\n",
        "# Check if the user's answer is correct\n",
        "if user == product:\n",
        "    print(\" Answer is correct!.\")\n",
        "else:\n",
        "    print(f\"Incorrect. The correct answer is {product}.\")"
      ],
      "metadata": {
        "colab": {
          "base_uri": "https://localhost:8080/"
        },
        "id": "Cy1FHBoFQlaM",
        "outputId": "cbf542ff-e07f-4e61-a747-590ebd768855",
        "collapsed": true
      },
      "execution_count": 7,
      "outputs": [
        {
          "output_type": "stream",
          "name": "stdout",
          "text": [
            "What is the product of 10 and 4? 40\n",
            " Answer is correct!.\n"
          ]
        }
      ]
    },
    {
      "cell_type": "markdown",
      "source": [
        "Squares of Even/Odd Numbers\n"
      ],
      "metadata": {
        "id": "iR7IEHiUQKBG"
      }
    },
    {
      "cell_type": "code",
      "source": [
        "# Choose to print squares of odd numbers\n",
        "print(\"Squares of odd numbers from 100 to 200:\")\n",
        "for n in range(100, 201):\n",
        "    if n % 3 == 0:  # Check if the number is odd\n",
        "        print(f\"The square of {n} is {n ** 2}.\")\n"
      ],
      "metadata": {
        "colab": {
          "base_uri": "https://localhost:8080/"
        },
        "id": "my5WDgjUVZRP",
        "outputId": "989e2cf5-5beb-4c28-9ceb-d5a3d4d1acd2",
        "collapsed": true
      },
      "execution_count": 8,
      "outputs": [
        {
          "output_type": "stream",
          "name": "stdout",
          "text": [
            "Squares of odd numbers from 100 to 200:\n",
            "The square of 102 is 10404.\n",
            "The square of 105 is 11025.\n",
            "The square of 108 is 11664.\n",
            "The square of 111 is 12321.\n",
            "The square of 114 is 12996.\n",
            "The square of 117 is 13689.\n",
            "The square of 120 is 14400.\n",
            "The square of 123 is 15129.\n",
            "The square of 126 is 15876.\n",
            "The square of 129 is 16641.\n",
            "The square of 132 is 17424.\n",
            "The square of 135 is 18225.\n",
            "The square of 138 is 19044.\n",
            "The square of 141 is 19881.\n",
            "The square of 144 is 20736.\n",
            "The square of 147 is 21609.\n",
            "The square of 150 is 22500.\n",
            "The square of 153 is 23409.\n",
            "The square of 156 is 24336.\n",
            "The square of 159 is 25281.\n",
            "The square of 162 is 26244.\n",
            "The square of 165 is 27225.\n",
            "The square of 168 is 28224.\n",
            "The square of 171 is 29241.\n",
            "The square of 174 is 30276.\n",
            "The square of 177 is 31329.\n",
            "The square of 180 is 32400.\n",
            "The square of 183 is 33489.\n",
            "The square of 186 is 34596.\n",
            "The square of 189 is 35721.\n",
            "The square of 192 is 36864.\n",
            "The square of 195 is 38025.\n",
            "The square of 198 is 39204.\n"
          ]
        }
      ]
    },
    {
      "cell_type": "markdown",
      "source": [
        "Word counter"
      ],
      "metadata": {
        "id": "195_-yJqXZCX"
      }
    },
    {
      "cell_type": "code",
      "source": [
        "# Get input from the user\n",
        "text = \"Excelr instute\"\n",
        "# Split the sentence into words\n",
        "words = text.split()\n",
        "\n",
        "# Count the number of words\n",
        "word_count = len(words)\n",
        "\n",
        "# Display the result\n",
        "print(f\"Total number of words: {word_count}\")\n"
      ],
      "metadata": {
        "colab": {
          "base_uri": "https://localhost:8080/"
        },
        "id": "7HNWMMWkXcSR",
        "outputId": "c0ed2935-e280-4c32-e816-ca6202ac91d1",
        "collapsed": true
      },
      "execution_count": 9,
      "outputs": [
        {
          "output_type": "stream",
          "name": "stdout",
          "text": [
            "Total number of words: 2\n"
          ]
        }
      ]
    },
    {
      "cell_type": "markdown",
      "source": [
        " Check for Palindrome"
      ],
      "metadata": {
        "id": "j7XATa6tZrZb"
      }
    },
    {
      "cell_type": "code",
      "source": [
        "# String\n",
        "s = \"level\"\n",
        "\n",
        "#Two pointers\n",
        "\n",
        "i,j = 0, len(s)-1\n",
        "\n",
        "#assume palindrome\n",
        "is_palindrome = True\n",
        "while i<j:\n",
        "  if s[i]!=s[j]:\n",
        "    is_palindrome = False\n",
        "    break\n",
        "  i=i+1\n",
        "  j=j-1\n",
        "if is_palindrome:\n",
        "    print(f\"Is '{s}' a palindrome? {is_palindrome}\")\n",
        "else:\n",
        "    print(f\"Is '{s}' a palindrome? {is_palindrome}\")"
      ],
      "metadata": {
        "colab": {
          "base_uri": "https://localhost:8080/"
        },
        "collapsed": true,
        "id": "Rm9HF0rDsI_x",
        "outputId": "0bfbd309-7da7-4e4c-e4a5-f6fa1dea4013"
      },
      "execution_count": 10,
      "outputs": [
        {
          "output_type": "stream",
          "name": "stdout",
          "text": [
            "Is 'level' a palindrome? True\n"
          ]
        }
      ]
    }
  ]
}