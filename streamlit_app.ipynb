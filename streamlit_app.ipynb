{
  "nbformat": 4,
  "nbformat_minor": 0,
  "metadata": {
    "colab": {
      "provenance": []
    },
    "kernelspec": {
      "name": "python3",
      "display_name": "Python 3"
    },
    "language_info": {
      "name": "python"
    }
  },
  "cells": [
    {
      "cell_type": "code",
      "source": [
        "app_code = r\"\"\"\n",
        "import streamlit as st\n",
        "import joblib\n",
        "import pandas as pd\n",
        "\n",
        "st.set_page_config(page_title=\"Titanic Survival Predictor\", layout=\"centered\")\n",
        "\n",
        "@st.cache_data(show_spinner=False)\n",
        "def load_model(path='model.pkl'):\n",
        "    data = joblib.load(path)\n",
        "    return data['pipeline'], data['features']\n",
        "\n",
        "pipeline, features = load_model('model.pkl')\n",
        "\n",
        "st.title(\"Titanic Survival Predictor\")\n",
        "st.write(\"Enter passenger details and get predicted survival probability (Logistic Regression).\")\n",
        "\n",
        "def build_inputs(features):\n",
        "    inputs = {}\n",
        "    if 'Pclass' in features:\n",
        "        inputs['Pclass'] = st.selectbox(\"Pclass\", options=[1,2,3], index=0)\n",
        "    if 'Age' in features:\n",
        "        inputs['Age'] = st.number_input(\"Age\", min_value=0.0, max_value=100.0, value=30.0)\n",
        "    if 'SibSp' in features:\n",
        "        inputs['SibSp'] = st.number_input(\"Siblings/Spouses Aboard (SibSp)\", min_value=0, max_value=10, value=0)\n",
        "    if 'Parch' in features:\n",
        "        inputs['Parch'] = st.number_input(\"Parents/Children Aboard (Parch)\", min_value=0, max_value=10, value=0)\n",
        "    if 'Fare' in features:\n",
        "        inputs['Fare'] = st.number_input(\"Fare\", min_value=0.0, max_value=1000.0, value=32.0)\n",
        "    if 'HasCabin' in features:\n",
        "        inputs['HasCabin'] = st.selectbox(\"Has Cabin info?\", options=[0,1], index=0)\n",
        "    if any(f.startswith('Sex_') for f in features):\n",
        "        inputs['Sex'] = st.selectbox(\"Sex\", options=['male','female'])\n",
        "    if any(f.startswith('Embarked_') for f in features):\n",
        "        inputs['Embarked'] = st.selectbox(\"Embarked\", options=['C','Q','S'])\n",
        "    other_features = [f for f in features if f not in ['Pclass','Age','SibSp','Parch','Fare','HasCabin'] and not f.startswith('Sex_') and not f.startswith('Embarked_')]\n",
        "    for f in other_features:\n",
        "        try:\n",
        "            inputs[f] = st.number_input(f, value=0.0)\n",
        "        except:\n",
        "            inputs[f] = st.text_input(f, value=\"\")\n",
        "    return inputs\n",
        "\n",
        "with st.form(\"input_form\"):\n",
        "    user_inputs = build_inputs(features)\n",
        "    submitted = st.form_submit_button(\"Predict\")\n",
        "\n",
        "if submitted:\n",
        "    row = {}\n",
        "    for f in features:\n",
        "        if f in ['Pclass','Age','SibSp','Parch','Fare','HasCabin']:\n",
        "            row[f] = float(user_inputs.get(f, 0))\n",
        "        elif f.startswith('Sex_'):\n",
        "            base = f.split('_',1)[1]\n",
        "            row[f] = 1.0 if user_inputs.get('Sex','') == base else 0.0\n",
        "        elif f.startswith('Embarked_'):\n",
        "            base = f.split('_',1)[1]\n",
        "            row[f] = 1.0 if user_inputs.get('Embarked','') == base else 0.0\n",
        "        else:\n",
        "            try:\n",
        "                row[f] = float(user_inputs.get(f, 0))\n",
        "            except:\n",
        "                row[f] = 0.0\n",
        "    X = pd.DataFrame([row], columns=features)\n",
        "    prob = pipeline.predict_proba(X)[:,1][0]\n",
        "    pred = pipeline.predict(X)[0]\n",
        "    st.write(\"Predicted survival probability:\", round(prob, 4))\n",
        "    st.write(\"Predicted class (0 = not survived, 1 = survived):\", int(pred))\n",
        "    with st.expander(\"Show input features\"):\n",
        "        st.write(X.T)\n",
        "\"\"\"\n",
        "# Write to file\n",
        "with open('/content/streamlit_app.py', 'w') as f:\n",
        "    f.write(app_code)\n",
        "print(\"Wrote /content/streamlit_app.py\")\n",
        "\n"
      ],
      "metadata": {
        "colab": {
          "base_uri": "https://localhost:8080/"
        },
        "id": "BIQL2vAGG7Fu",
        "outputId": "bd08d8fc-b0a5-4d03-f1f1-e1d9ab90e815"
      },
      "execution_count": 1,
      "outputs": [
        {
          "output_type": "stream",
          "name": "stdout",
          "text": [
            "Wrote /content/streamlit_app.py\n"
          ]
        }
      ]
    },
    {
      "cell_type": "code",
      "source": [],
      "metadata": {
        "id": "2PkCL_CnGS3H"
      },
      "execution_count": 1,
      "outputs": []
    },
    {
      "cell_type": "code",
      "source": [
        "reqs = \"\\n\".join([\"streamlit>=1.18\",\"scikit-learn\",\"pandas\",\"numpy\",\"joblib\",\"statsmodels\",\"pyngrok\"])\n",
        "open('/content/requirements.txt','w').write(reqs)\n",
        "print(\"Wrote /content/requirements.txt\")\n"
      ],
      "metadata": {
        "id": "b8n1k4N7qMiu",
        "outputId": "faa0b7a1-c08a-4a93-ec2f-5463c8801732",
        "colab": {
          "base_uri": "https://localhost:8080/"
        }
      },
      "execution_count": 2,
      "outputs": [
        {
          "output_type": "stream",
          "name": "stdout",
          "text": [
            "Wrote /content/requirements.txt\n"
          ]
        }
      ]
    }
  ]
}