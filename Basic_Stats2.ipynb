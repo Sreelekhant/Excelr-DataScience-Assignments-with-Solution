{
  "nbformat": 4,
  "nbformat_minor": 0,
  "metadata": {
    "colab": {
      "provenance": []
    },
    "kernelspec": {
      "name": "python3",
      "display_name": "Python 3"
    },
    "language_info": {
      "name": "python"
    }
  },
  "cells": [
    {
      "cell_type": "code",
      "execution_count": 45,
      "metadata": {
        "id": "E_R55xBuwvbp",
        "colab": {
          "base_uri": "https://localhost:8080/"
        },
        "collapsed": true,
        "outputId": "f7e58a71-8b01-4c3b-d7a3-f0760baa0bb5"
      },
      "outputs": [
        {
          "output_type": "execute_result",
          "data": {
            "text/plain": [
              "array([1.13, 1.55, 1.43, 0.92, 1.25, 1.36, 1.32, 0.85, 1.07, 1.48, 1.2 ,\n",
              "       1.33, 1.18, 1.22, 1.29])"
            ]
          },
          "metadata": {},
          "execution_count": 45
        }
      ],
      "source": [
        "import numpy as np\n",
        "import scipy.stats as stats\n",
        "\n",
        "#data\n",
        "data = np.array([1.13,1.55,1.43,0.92,1.25,1.36,1.32,0.85,1.07,1.48,1.20,1.33,1.18,1.22,1.29])\n",
        "data\n"
      ]
    },
    {
      "cell_type": "markdown",
      "source": [
        "\n",
        "Sample standar deviation\n",
        "\n",
        "\n"
      ],
      "metadata": {
        "id": "VbNJUUazypxC"
      }
    },
    {
      "cell_type": "code",
      "source": [
        "#sample mean\n",
        "sample_mean =np.mean(data)\n",
        "print('Sample Mean:',sample_mean)\n",
        "\n",
        "#std dev\n",
        "std_dev = np.std(data,ddof=1)\n",
        "print('Sample Standard Deviation:',std_dev)\n",
        "\n",
        "#sample size\n",
        "n=len(data)\n",
        "print('Sample Size:',n)\n",
        "\n",
        "\n",
        "#t-value for 99% confidence\n",
        "confidence_level = 0.99\n",
        "df = n-1\n",
        "print('Degrees of Freedom:',df)\n",
        "\n",
        "alpha = 1-confidence_level\n",
        "print('Alpha:',alpha)\n",
        "\n",
        "t_value = stats.t.ppf(1-alpha/2,df)\n",
        "print('t-value:',t_value)\n"
      ],
      "metadata": {
        "colab": {
          "base_uri": "https://localhost:8080/"
        },
        "collapsed": true,
        "id": "54Z1j4w752vX",
        "outputId": "48bddcf1-c738-41df-afb1-b9fbf18eed3b"
      },
      "execution_count": 46,
      "outputs": [
        {
          "output_type": "stream",
          "name": "stdout",
          "text": [
            "Sample Mean: 1.2386666666666666\n",
            "Sample Standard Deviation: 0.19316412956959936\n",
            "Sample Size: 15\n",
            "Degrees of Freedom: 14\n",
            "Alpha: 0.010000000000000009\n",
            "t-value: 2.976842734370834\n"
          ]
        }
      ]
    },
    {
      "cell_type": "code",
      "source": [
        "#std_error\n",
        "std_error=std_dev/(np.sqrt(n))\n",
        "print('Standard Error is',std_error)\n",
        "\n",
        "#margin of error\n",
        "margin_of_error = t_value*std_error\n",
        "print('Margin of Error:',margin_of_error)\n",
        "\n",
        "print('Lower Limit of 99% Confidence Interval',round(sample_mean - margin_of_error,3))\n",
        "print('Lower Limit of 99% Confidence Interval',round(sample_mean + margin_of_error,3))"
      ],
      "metadata": {
        "colab": {
          "base_uri": "https://localhost:8080/"
        },
        "collapsed": true,
        "id": "_sgOauaVFGpM",
        "outputId": "434afb61-0589-4c2b-b617-4d6f5dcffb00"
      },
      "execution_count": 47,
      "outputs": [
        {
          "output_type": "stream",
          "name": "stdout",
          "text": [
            "Standard Error is 0.04987476379384733\n",
            "Margin of Error: 0.14846932822817596\n",
            "Lower Limit of 99% Confidence Interval 1.09\n",
            "Lower Limit of 99% Confidence Interval 1.387\n"
          ]
        }
      ]
    },
    {
      "cell_type": "markdown",
      "source": [
        "Population standard deviation"
      ],
      "metadata": {
        "id": "ReS8gdnb6IAv"
      }
    },
    {
      "cell_type": "code",
      "source": [
        "population_std_dev = 0.2\n",
        "\n",
        "margin_of_error = t_value*(population_std_dev/np.sqrt(n))\n",
        "print('Margin of Error:',margin_of_error)\n",
        "\n",
        "print('Lower Limit of 99% Confidence Interval',round(sample_mean - margin_of_error,3))\n",
        "print('Lower Limit of 99% Confidence Interval',round(sample_mean + margin_of_error,3))"
      ],
      "metadata": {
        "colab": {
          "base_uri": "https://localhost:8080/"
        },
        "collapsed": true,
        "id": "u8RWOaC3DfaT",
        "outputId": "c9ebb658-ef35-436c-b892-4f67a02763f2"
      },
      "execution_count": 48,
      "outputs": [
        {
          "output_type": "stream",
          "name": "stdout",
          "text": [
            "Margin of Error: 0.15372349779329053\n",
            "Lower Limit of 99% Confidence Interval 1.085\n",
            "Lower Limit of 99% Confidence Interval 1.392\n"
          ]
        }
      ]
    }
  ]
}